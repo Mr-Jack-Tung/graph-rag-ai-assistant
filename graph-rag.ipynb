{
 "cells": [
  {
   "cell_type": "markdown",
   "id": "1cec2917-ccc3-4254-8ecb-c44a3e13e864",
   "metadata": {},
   "source": [
    "# Diffbot Graph Transformer from Langchain"
   ]
  },
  {
   "cell_type": "code",
   "execution_count": 4,
   "id": "9406b745-9d5b-4275-b227-a1a1d26fb678",
   "metadata": {},
   "outputs": [],
   "source": [
    "# import the modifed library of Diffbot Graph Transformer\n",
    "%run modified_diffbot_graph_transformer.ipynb"
   ]
  },
  {
   "cell_type": "code",
   "execution_count": 2,
   "id": "096deaf3-7158-4cc6-ae2b-f4ffd919dfbf",
   "metadata": {},
   "outputs": [],
   "source": [
    "from langchain_experimental.graph_transformers.diffbot import DiffbotGraphTransformer\n",
    "import os\n",
    "\n",
    "diffbot_api_key = \"Diffbot-token\"\n",
    "os.environ[\"DIFFBOT_API_KEY\"] = diffbot_api_key\n",
    "\n",
    "diffbot_nlp = DiffbotGraphTransformer(diffbot_api_key=diffbot_api_key)"
   ]
  },
  {
   "cell_type": "code",
   "execution_count": 7,
   "id": "299a956e-6224-4959-85b9-e9fa611c5742",
   "metadata": {},
   "outputs": [],
   "source": [
    "import pandas as pd\n",
    "speaker_data = pd.read_csv('diffbot_txt_data.csv')"
   ]
  },
  {
   "cell_type": "code",
   "execution_count": 40,
   "id": "587e8ad0-cedf-462f-8e7e-2b0782b827cd",
   "metadata": {},
   "outputs": [
    {
     "data": {
      "text/html": [
       "<div>\n",
       "<style scoped>\n",
       "    .dataframe tbody tr th:only-of-type {\n",
       "        vertical-align: middle;\n",
       "    }\n",
       "\n",
       "    .dataframe tbody tr th {\n",
       "        vertical-align: top;\n",
       "    }\n",
       "\n",
       "    .dataframe thead th {\n",
       "        text-align: right;\n",
       "    }\n",
       "</style>\n",
       "<table border=\"1\" class=\"dataframe\">\n",
       "  <thead>\n",
       "    <tr style=\"text-align: right;\">\n",
       "      <th></th>\n",
       "      <th>summary</th>\n",
       "      <th>image</th>\n",
       "      <th>link</th>\n",
       "      <th>title</th>\n",
       "    </tr>\n",
       "  </thead>\n",
       "  <tbody>\n",
       "    <tr>\n",
       "      <th>0</th>\n",
       "      <td>With eight patents issued and receiving awards...</td>\n",
       "      <td>pioneering IBM’s early advances in Enterprise ...</td>\n",
       "      <td>https://datadaytexas.com/sites/default/files/i...</td>\n",
       "      <td>Plenary Keynote</td>\n",
       "    </tr>\n",
       "    <tr>\n",
       "      <th>1</th>\n",
       "      <td>. Mikiko has worked as an engineer, data scien...</td>\n",
       "      <td>https://datadaytexas.com/sites/default/files/i...</td>\n",
       "      <td>https://datadaytexas.com/2024/sessions#bazeley</td>\n",
       "      <td>MLOps Keynote</td>\n",
       "    </tr>\n",
       "    <tr>\n",
       "      <th>2</th>\n",
       "      <td>Susan Shu Chang (Linkedin) is currently Princi...</td>\n",
       "      <td>https://datadaytexas.com/sites/default/files/i...</td>\n",
       "      <td>https://datadaytexas.com/2024/sessions#chang</td>\n",
       "      <td>Machine Learning Keynote</td>\n",
       "    </tr>\n",
       "    <tr>\n",
       "      <th>3</th>\n",
       "      <td>Jessica Talisman is a taxonomist, ontologist, ...</td>\n",
       "      <td>https://datadaytexas.com/sites/default/files/i...</td>\n",
       "      <td>https://datadaytexas.com/2024/sessions#talisman</td>\n",
       "      <td>Data Architecture Keynote</td>\n",
       "    </tr>\n",
       "    <tr>\n",
       "      <th>4</th>\n",
       "      <td>One of our perennially requested speakers, \\nJ...</td>\n",
       "      <td>https://datadaytexas.com/sites/default/files/i...</td>\n",
       "      <td>https://datadaytexas.com/2024/sessions#anderson</td>\n",
       "      <td>Data Engineering Keynote</td>\n",
       "    </tr>\n",
       "  </tbody>\n",
       "</table>\n",
       "</div>"
      ],
      "text/plain": [
       "                                             summary  \\\n",
       "0  With eight patents issued and receiving awards...   \n",
       "1  . Mikiko has worked as an engineer, data scien...   \n",
       "2  Susan Shu Chang (Linkedin) is currently Princi...   \n",
       "3  Jessica Talisman is a taxonomist, ontologist, ...   \n",
       "4  One of our perennially requested speakers, \\nJ...   \n",
       "\n",
       "                                               image  \\\n",
       "0  pioneering IBM’s early advances in Enterprise ...   \n",
       "1  https://datadaytexas.com/sites/default/files/i...   \n",
       "2  https://datadaytexas.com/sites/default/files/i...   \n",
       "3  https://datadaytexas.com/sites/default/files/i...   \n",
       "4  https://datadaytexas.com/sites/default/files/i...   \n",
       "\n",
       "                                                link  \\\n",
       "0  https://datadaytexas.com/sites/default/files/i...   \n",
       "1     https://datadaytexas.com/2024/sessions#bazeley   \n",
       "2       https://datadaytexas.com/2024/sessions#chang   \n",
       "3    https://datadaytexas.com/2024/sessions#talisman   \n",
       "4    https://datadaytexas.com/2024/sessions#anderson   \n",
       "\n",
       "                       title  \n",
       "0            Plenary Keynote  \n",
       "1              MLOps Keynote  \n",
       "2   Machine Learning Keynote  \n",
       "3  Data Architecture Keynote  \n",
       "4   Data Engineering Keynote  "
      ]
     },
     "execution_count": 40,
     "metadata": {},
     "output_type": "execute_result"
    }
   ],
   "source": [
    "speaker_data.head()"
   ]
  },
  {
   "cell_type": "code",
   "execution_count": 8,
   "id": "94ed1216-a83f-4a53-9235-738545dc1c10",
   "metadata": {},
   "outputs": [
    {
     "data": {
      "text/plain": [
       "\"is currently the Founder and CEO of Clair Sullivan and Associates, a company dedicated to providing data science consulting services. Prior to starting her company, she was the Director of Data Science at Vail Resorts leading a team of data scientists and machine learning engineers providing production models for operations and marketing. Previously she was a data science advocate at Neo4j, working to expand the community of data scientists and machine learning engineers using graphs to solve challenging problems. She received her doctorate degree in nuclear engineering from the University of Michigan in 2002. After that, she began her career in nuclear emergency response at Los Alamos National Laboratory where her research involved signal processing of spectroscopic data. She spent 4 years working in the federal government on related subjects and returned to academic research in 2012 as an assistant professor in the Department of Nuclear, Plasma, and Radiological Engineering at the University of Illinois at Urbana-Champaign. While there, her research focused on using machine learning to analyze the data from large sensor networks. Deciding to focus more on machine learning, she accepted a job at GitHub as a machine learning engineer while maintaining adjunct assistant professor status at the University of Illinois. In 2021 she joined Neo4j as a Graph Data Science Advocate. Additionally, she founded a company, La Neige Analytics, whose purpose is to provide data science expertise to the ski industry. She has authored 4 book chapters, over 20 peer-reviewed papers, and more than 30 conference papers. Dr. Sullivan was the recipient of the DARPA Young Faculty Award in 2014 and the American Nuclear Society's Mary J. Oestmann Professional Women's Achievement Award in 2015.\""
      ]
     },
     "execution_count": 8,
     "metadata": {},
     "output_type": "execute_result"
    }
   ],
   "source": [
    "# text bio of Dr. Clair Sullivan\n",
    "speaker_data['summary'][5]"
   ]
  },
  {
   "cell_type": "code",
   "execution_count": 5,
   "id": "e69b4156-b3f1-4bc5-8f50-8206ed627649",
   "metadata": {},
   "outputs": [],
   "source": [
    "text = 'While recent language models have the abil- ity to take long contexts as input, relatively little is known about how well they use longer context. We analyze the performance of language models on two tasks that require identifying relevant information in their in- put contexts: multi-document question an- swering and key-value retrieval. We find that performance can degrade significantly when changing the position of relevant informa- tion, indicating that current language models do not robustly make use of information in long input contexts. In particular, we observe that performance is often highest when rele- vant information occurs at the beginning or end of the input context, and significantly degrades when models must access relevant information in the middle of long contexts, even for explicitly long-context models. Our analysis provides a better understanding of how language models use their input context and provides new evaluation protocols for future long-context language models.'\n",
    "result = diffbot_nlp.nlp_request(text)"
   ]
  },
  {
   "cell_type": "code",
   "execution_count": 10,
   "id": "4bd5d8e4-1d1b-41b0-bea6-8f76bd7bd0eb",
   "metadata": {},
   "outputs": [
    {
     "data": {
      "text/plain": [
       "dict"
      ]
     },
     "execution_count": 10,
     "metadata": {},
     "output_type": "execute_result"
    }
   ],
   "source": [
    "type(result)"
   ]
  },
  {
   "cell_type": "code",
   "execution_count": 7,
   "id": "f3e74861-3976-4e48-815d-ac0c12ddc800",
   "metadata": {},
   "outputs": [
    {
     "data": {
      "text/plain": [
       "{'facts': []}"
      ]
     },
     "execution_count": 7,
     "metadata": {},
     "output_type": "execute_result"
    }
   ],
   "source": [
    "result"
   ]
  },
  {
   "cell_type": "code",
   "execution_count": 15,
   "id": "b7e2f25b-789c-4903-a569-c72bd89769ab",
   "metadata": {},
   "outputs": [],
   "source": [
    "diffbot_nlp = DiffbotGraphTransformer()\n",
    "speaker = diffbot_nlp.process_response(result)"
   ]
  },
  {
   "cell_type": "code",
   "execution_count": 16,
   "id": "04bb9783-78b7-4451-aed7-597f3264cd84",
   "metadata": {
    "scrolled": true
   },
   "outputs": [
    {
     "data": {
      "text/plain": [
       "GraphDocument(nodes=[Node(id='Sullivan', type='Person', properties={'name': 'Sullivan', 'academicDegree': 'doctorate', 'positionHeld': 'machine learning engineer'}), Node(id='University of Illinois at Urbana-Champaign', type='Organization', properties={'name': 'University of Illinois at Urbana-Champaign'}), Node(id='La Neige Analytics', type='Organization', properties={'name': 'La Neige Analytics'}), Node(id='ski industry', type='Skill', properties={'name': 'ski industry'}), Node(id='http://www.wikidata.org/entity/Q83504', type='Skill', properties={'name': 'nuclear engineering'}), Node(id='DARPA Young Faculty Award', type='Award', properties={'name': 'DARPA Young Faculty Award'}), Node(id='Department of Nuclear, Plasma, and Radiological Engineering', type='Organization', properties={'name': 'Department of Nuclear, Plasma, and Radiological Engineering'}), Node(id='Clair Sullivan and Associates', type='Organization', properties={'name': 'Clair Sullivan and Associates'}), Node(id='data science consulting services', type='Skill', properties={'name': 'data science consulting services'}), Node(id='Neo4j', type='Organization', properties={'name': 'Neo4j'}), Node(id=\"Mary J. Oestmann Professional Women's Achievement Award\", type='Award', properties={'name': \"Mary J. Oestmann Professional Women's Achievement Award\"}), Node(id='http://www.wikidata.org/entity/Q2539', type='Skill', properties={'name': 'machine learning'}), Node(id='http://www.wikidata.org/entity/Q230492', type='Organization', properties={'name': 'University of Michigan'}), Node(id='http://www.wikidata.org/entity/Q16986288', type='Organization', properties={'name': 'Vail Resorts'}), Node(id='signal processing of spectroscopic data', type='Skill', properties={'name': 'signal processing of spectroscopic data'}), Node(id='nuclear emergency response', type='Skill', properties={'name': 'nuclear emergency response'}), Node(id='http://www.wikidata.org/entity/Q364', type='Organization', properties={'name': 'GitHub'})], relationships=[Relationship(source=Node(id='Sullivan', type='Person'), target=Node(id='University of Illinois at Urbana-Champaign', type='Organization'), type='EMPLOYEE_OR_MEMBER_OF', properties={'evidence': 'She spent 4 years working in the federal government on related subjects and returned to academic research in 2012 as an assistant professor in the Department of Nuclear, Plasma, and Radiological Engineering at the University of Illinois at Urbana-Champaign.', 'isNotCurrent': 'true'}), Relationship(source=Node(id='La Neige Analytics', type='Organization'), target=Node(id='ski industry', type='Skill'), type='INDUSTRY', properties={'evidence': 'Additionally, she founded a company, La Neige Analytics, whose purpose is to provide data science expertise to the ski industry.'}), Relationship(source=Node(id='Sullivan', type='Person'), target=Node(id='http://www.wikidata.org/entity/Q83504', type='Skill'), type='FIELD_OF_WORK', properties={'evidence': 'She received her doctorate degree in nuclear engineering from the University of Michigan in 2002.'}), Relationship(source=Node(id='Sullivan', type='Person'), target=Node(id='http://www.wikidata.org/entity/Q83504', type='Skill'), type='INTERESTED_IN', properties={'evidence': 'She received her doctorate degree in nuclear engineering from the University of Michigan in 2002.'}), Relationship(source=Node(id='Sullivan', type='Person'), target=Node(id='http://www.wikidata.org/entity/Q83504', type='Skill'), type='INTERESTED_IN', properties={'evidence': 'She received her doctorate degree in nuclear engineering from the University of Michigan in 2002.'}), Relationship(source=Node(id='Sullivan', type='Person'), target=Node(id='DARPA Young Faculty Award', type='Award'), type='AWARDS', properties={'evidence': \"Dr. Sullivan was the recipient of the DARPA Young Faculty Award in 2014 and the American Nuclear Society's Mary J. Oestmann Professional Women's Achievement Award in 2015.\"}), Relationship(source=Node(id='Sullivan', type='Person'), target=Node(id='Department of Nuclear, Plasma, and Radiological Engineering', type='Organization'), type='EMPLOYEE_OR_MEMBER_OF', properties={'evidence': 'She spent 4 years working in the federal government on related subjects and returned to academic research in 2012 as an assistant professor in the Department of Nuclear, Plasma, and Radiological Engineering at the University of Illinois at Urbana-Champaign.', 'isNotCurrent': 'true'}), Relationship(source=Node(id='Clair Sullivan and Associates', type='Organization'), target=Node(id='data science consulting services', type='Skill'), type='INDUSTRY', properties={'evidence': 'is currently the Founder and CEO of Clair Sullivan and Associates, a company dedicated to providing data science consulting services.'}), Relationship(source=Node(id='Sullivan', type='Person'), target=Node(id='Neo4j', type='Organization'), type='EMPLOYEE_OR_MEMBER_OF', properties={'evidence': 'Previously she was a data science advocate at Neo4j, working to expand the community of data scientists and machine learning engineers using graphs to solve challenging problems.', 'isNotCurrent': 'true', 'positionHeld': 'data science advocate'}), Relationship(source=Node(id='Sullivan', type='Person'), target=Node(id='Neo4j', type='Organization'), type='EMPLOYEE_OR_MEMBER_OF', properties={'evidence': 'In 2021 she joined Neo4j as a Graph Data Science Advocate.', 'isCurrent': 'true', 'startTime': '2021', 'positionHeld': 'Graph Data Science Advocate'}), Relationship(source=Node(id='Sullivan', type='Person'), target=Node(id=\"Mary J. Oestmann Professional Women's Achievement Award\", type='Award'), type='AWARDS', properties={'evidence': \"Dr. Sullivan was the recipient of the DARPA Young Faculty Award in 2014 and the American Nuclear Society's Mary J. Oestmann Professional Women's Achievement Award in 2015.\"}), Relationship(source=Node(id='Sullivan', type='Person'), target=Node(id='http://www.wikidata.org/entity/Q2539', type='Skill'), type='INTERESTED_IN', properties={'evidence': 'Prior to starting her company, she was the Director of Data Science at Vail Resorts leading a team of data scientists and machine learning engineers providing production models for operations and marketing.'}), Relationship(source=Node(id='Sullivan', type='Person'), target=Node(id='http://www.wikidata.org/entity/Q2539', type='Skill'), type='INTERESTED_IN', properties={'evidence': 'Prior to starting her company, she was the Director of Data Science at Vail Resorts leading a team of data scientists and machine learning engineers providing production models for operations and marketing.'}), Relationship(source=Node(id='Sullivan', type='Person'), target=Node(id='http://www.wikidata.org/entity/Q230492', type='Organization'), type='EDUCATED_AT', properties={'evidence': 'She received her doctorate degree in nuclear engineering from the University of Michigan in 2002.', 'isNotCurrent': 'true', 'endTime': '2002'}), Relationship(source=Node(id='Sullivan', type='Person'), target=Node(id='La Neige Analytics', type='Organization'), type='EMPLOYEE_OR_MEMBER_OF', properties={'evidence': 'Additionally, she founded a company, La Neige Analytics, whose purpose is to provide data science expertise to the ski industry.'}), Relationship(source=Node(id='Sullivan', type='Person'), target=Node(id='http://www.wikidata.org/entity/Q16986288', type='Organization'), type='EMPLOYEE_OR_MEMBER_OF', properties={'evidence': 'Prior to starting her company, she was the Director of Data Science at Vail Resorts leading a team of data scientists and machine learning engineers providing production models for operations and marketing.', 'isNotCurrent': 'true', 'positionHeld': 'Director of Data Science'}), Relationship(source=Node(id='Sullivan', type='Person'), target=Node(id='signal processing of spectroscopic data', type='Skill'), type='INTERESTED_IN', properties={'evidence': 'After that, she began her career in nuclear emergency response at Los Alamos National Laboratory where her research involved signal processing of spectroscopic data.'}), Relationship(source=Node(id='Sullivan', type='Person'), target=Node(id='signal processing of spectroscopic data', type='Skill'), type='INTERESTED_IN', properties={'evidence': 'After that, she began her career in nuclear emergency response at Los Alamos National Laboratory where her research involved signal processing of spectroscopic data.'}), Relationship(source=Node(id='La Neige Analytics', type='Organization'), target=Node(id='Sullivan', type='Person'), type='FOUNDED_BY', properties={'evidence': 'Additionally, she founded a company, La Neige Analytics, whose purpose is to provide data science expertise to the ski industry.'}), Relationship(source=Node(id='Sullivan', type='Person'), target=Node(id='nuclear emergency response', type='Skill'), type='INTERESTED_IN', properties={'evidence': 'After that, she began her career in nuclear emergency response at Los Alamos National Laboratory where her research involved signal processing of spectroscopic data.'}), Relationship(source=Node(id='Sullivan', type='Person'), target=Node(id='nuclear emergency response', type='Skill'), type='INTERESTED_IN', properties={'evidence': 'After that, she began her career in nuclear emergency response at Los Alamos National Laboratory where her research involved signal processing of spectroscopic data.'}), Relationship(source=Node(id='Sullivan', type='Person'), target=Node(id='http://www.wikidata.org/entity/Q364', type='Organization'), type='EMPLOYEE_OR_MEMBER_OF', properties={'evidence': 'Deciding to focus more on machine learning, she accepted a job at GitHub as a machine learning engineer while maintaining adjunct assistant professor status at the University of Illinois.', 'positionHeld': 'machine learning engineer'})])"
      ]
     },
     "execution_count": 16,
     "metadata": {},
     "output_type": "execute_result"
    }
   ],
   "source": [
    "speaker"
   ]
  },
  {
   "cell_type": "code",
   "execution_count": 18,
   "id": "b54e68ce-ea19-4500-8d4a-2b5b4aefe5ba",
   "metadata": {},
   "outputs": [
    {
     "data": {
      "text/plain": [
       "[Node(id='Sullivan', type='Person', properties={'name': 'Sullivan', 'academicDegree': 'doctorate', 'positionHeld': 'machine learning engineer'}),\n",
       " Node(id='University of Illinois at Urbana-Champaign', type='Organization', properties={'name': 'University of Illinois at Urbana-Champaign'}),\n",
       " Node(id='La Neige Analytics', type='Organization', properties={'name': 'La Neige Analytics'}),\n",
       " Node(id='ski industry', type='Skill', properties={'name': 'ski industry'}),\n",
       " Node(id='http://www.wikidata.org/entity/Q83504', type='Skill', properties={'name': 'nuclear engineering'}),\n",
       " Node(id='DARPA Young Faculty Award', type='Award', properties={'name': 'DARPA Young Faculty Award'}),\n",
       " Node(id='Department of Nuclear, Plasma, and Radiological Engineering', type='Organization', properties={'name': 'Department of Nuclear, Plasma, and Radiological Engineering'}),\n",
       " Node(id='Clair Sullivan and Associates', type='Organization', properties={'name': 'Clair Sullivan and Associates'}),\n",
       " Node(id='data science consulting services', type='Skill', properties={'name': 'data science consulting services'}),\n",
       " Node(id='Neo4j', type='Organization', properties={'name': 'Neo4j'}),\n",
       " Node(id=\"Mary J. Oestmann Professional Women's Achievement Award\", type='Award', properties={'name': \"Mary J. Oestmann Professional Women's Achievement Award\"}),\n",
       " Node(id='http://www.wikidata.org/entity/Q2539', type='Skill', properties={'name': 'machine learning'}),\n",
       " Node(id='http://www.wikidata.org/entity/Q230492', type='Organization', properties={'name': 'University of Michigan'}),\n",
       " Node(id='http://www.wikidata.org/entity/Q16986288', type='Organization', properties={'name': 'Vail Resorts'}),\n",
       " Node(id='signal processing of spectroscopic data', type='Skill', properties={'name': 'signal processing of spectroscopic data'}),\n",
       " Node(id='nuclear emergency response', type='Skill', properties={'name': 'nuclear emergency response'}),\n",
       " Node(id='http://www.wikidata.org/entity/Q364', type='Organization', properties={'name': 'GitHub'})]"
      ]
     },
     "execution_count": 18,
     "metadata": {},
     "output_type": "execute_result"
    }
   ],
   "source": [
    "speaker.nodes"
   ]
  },
  {
   "cell_type": "code",
   "execution_count": 19,
   "id": "15a8a6fa-332a-432f-a80b-e70b6f9dc247",
   "metadata": {},
   "outputs": [
    {
     "data": {
      "text/plain": [
       "[Relationship(source=Node(id='Sullivan', type='Person'), target=Node(id='University of Illinois at Urbana-Champaign', type='Organization'), type='EMPLOYEE_OR_MEMBER_OF', properties={'evidence': 'She spent 4 years working in the federal government on related subjects and returned to academic research in 2012 as an assistant professor in the Department of Nuclear, Plasma, and Radiological Engineering at the University of Illinois at Urbana-Champaign.', 'isNotCurrent': 'true'}),\n",
       " Relationship(source=Node(id='La Neige Analytics', type='Organization'), target=Node(id='ski industry', type='Skill'), type='INDUSTRY', properties={'evidence': 'Additionally, she founded a company, La Neige Analytics, whose purpose is to provide data science expertise to the ski industry.'}),\n",
       " Relationship(source=Node(id='Sullivan', type='Person'), target=Node(id='http://www.wikidata.org/entity/Q83504', type='Skill'), type='FIELD_OF_WORK', properties={'evidence': 'She received her doctorate degree in nuclear engineering from the University of Michigan in 2002.'}),\n",
       " Relationship(source=Node(id='Sullivan', type='Person'), target=Node(id='http://www.wikidata.org/entity/Q83504', type='Skill'), type='INTERESTED_IN', properties={'evidence': 'She received her doctorate degree in nuclear engineering from the University of Michigan in 2002.'}),\n",
       " Relationship(source=Node(id='Sullivan', type='Person'), target=Node(id='http://www.wikidata.org/entity/Q83504', type='Skill'), type='INTERESTED_IN', properties={'evidence': 'She received her doctorate degree in nuclear engineering from the University of Michigan in 2002.'}),\n",
       " Relationship(source=Node(id='Sullivan', type='Person'), target=Node(id='DARPA Young Faculty Award', type='Award'), type='AWARDS', properties={'evidence': \"Dr. Sullivan was the recipient of the DARPA Young Faculty Award in 2014 and the American Nuclear Society's Mary J. Oestmann Professional Women's Achievement Award in 2015.\"}),\n",
       " Relationship(source=Node(id='Sullivan', type='Person'), target=Node(id='Department of Nuclear, Plasma, and Radiological Engineering', type='Organization'), type='EMPLOYEE_OR_MEMBER_OF', properties={'evidence': 'She spent 4 years working in the federal government on related subjects and returned to academic research in 2012 as an assistant professor in the Department of Nuclear, Plasma, and Radiological Engineering at the University of Illinois at Urbana-Champaign.', 'isNotCurrent': 'true'}),\n",
       " Relationship(source=Node(id='Clair Sullivan and Associates', type='Organization'), target=Node(id='data science consulting services', type='Skill'), type='INDUSTRY', properties={'evidence': 'is currently the Founder and CEO of Clair Sullivan and Associates, a company dedicated to providing data science consulting services.'}),\n",
       " Relationship(source=Node(id='Sullivan', type='Person'), target=Node(id='Neo4j', type='Organization'), type='EMPLOYEE_OR_MEMBER_OF', properties={'evidence': 'Previously she was a data science advocate at Neo4j, working to expand the community of data scientists and machine learning engineers using graphs to solve challenging problems.', 'isNotCurrent': 'true', 'positionHeld': 'data science advocate'}),\n",
       " Relationship(source=Node(id='Sullivan', type='Person'), target=Node(id='Neo4j', type='Organization'), type='EMPLOYEE_OR_MEMBER_OF', properties={'evidence': 'In 2021 she joined Neo4j as a Graph Data Science Advocate.', 'isCurrent': 'true', 'startTime': '2021', 'positionHeld': 'Graph Data Science Advocate'}),\n",
       " Relationship(source=Node(id='Sullivan', type='Person'), target=Node(id=\"Mary J. Oestmann Professional Women's Achievement Award\", type='Award'), type='AWARDS', properties={'evidence': \"Dr. Sullivan was the recipient of the DARPA Young Faculty Award in 2014 and the American Nuclear Society's Mary J. Oestmann Professional Women's Achievement Award in 2015.\"}),\n",
       " Relationship(source=Node(id='Sullivan', type='Person'), target=Node(id='http://www.wikidata.org/entity/Q2539', type='Skill'), type='INTERESTED_IN', properties={'evidence': 'Prior to starting her company, she was the Director of Data Science at Vail Resorts leading a team of data scientists and machine learning engineers providing production models for operations and marketing.'}),\n",
       " Relationship(source=Node(id='Sullivan', type='Person'), target=Node(id='http://www.wikidata.org/entity/Q2539', type='Skill'), type='INTERESTED_IN', properties={'evidence': 'Prior to starting her company, she was the Director of Data Science at Vail Resorts leading a team of data scientists and machine learning engineers providing production models for operations and marketing.'}),\n",
       " Relationship(source=Node(id='Sullivan', type='Person'), target=Node(id='http://www.wikidata.org/entity/Q230492', type='Organization'), type='EDUCATED_AT', properties={'evidence': 'She received her doctorate degree in nuclear engineering from the University of Michigan in 2002.', 'isNotCurrent': 'true', 'endTime': '2002'}),\n",
       " Relationship(source=Node(id='Sullivan', type='Person'), target=Node(id='La Neige Analytics', type='Organization'), type='EMPLOYEE_OR_MEMBER_OF', properties={'evidence': 'Additionally, she founded a company, La Neige Analytics, whose purpose is to provide data science expertise to the ski industry.'}),\n",
       " Relationship(source=Node(id='Sullivan', type='Person'), target=Node(id='http://www.wikidata.org/entity/Q16986288', type='Organization'), type='EMPLOYEE_OR_MEMBER_OF', properties={'evidence': 'Prior to starting her company, she was the Director of Data Science at Vail Resorts leading a team of data scientists and machine learning engineers providing production models for operations and marketing.', 'isNotCurrent': 'true', 'positionHeld': 'Director of Data Science'}),\n",
       " Relationship(source=Node(id='Sullivan', type='Person'), target=Node(id='signal processing of spectroscopic data', type='Skill'), type='INTERESTED_IN', properties={'evidence': 'After that, she began her career in nuclear emergency response at Los Alamos National Laboratory where her research involved signal processing of spectroscopic data.'}),\n",
       " Relationship(source=Node(id='Sullivan', type='Person'), target=Node(id='signal processing of spectroscopic data', type='Skill'), type='INTERESTED_IN', properties={'evidence': 'After that, she began her career in nuclear emergency response at Los Alamos National Laboratory where her research involved signal processing of spectroscopic data.'}),\n",
       " Relationship(source=Node(id='La Neige Analytics', type='Organization'), target=Node(id='Sullivan', type='Person'), type='FOUNDED_BY', properties={'evidence': 'Additionally, she founded a company, La Neige Analytics, whose purpose is to provide data science expertise to the ski industry.'}),\n",
       " Relationship(source=Node(id='Sullivan', type='Person'), target=Node(id='nuclear emergency response', type='Skill'), type='INTERESTED_IN', properties={'evidence': 'After that, she began her career in nuclear emergency response at Los Alamos National Laboratory where her research involved signal processing of spectroscopic data.'}),\n",
       " Relationship(source=Node(id='Sullivan', type='Person'), target=Node(id='nuclear emergency response', type='Skill'), type='INTERESTED_IN', properties={'evidence': 'After that, she began her career in nuclear emergency response at Los Alamos National Laboratory where her research involved signal processing of spectroscopic data.'}),\n",
       " Relationship(source=Node(id='Sullivan', type='Person'), target=Node(id='http://www.wikidata.org/entity/Q364', type='Organization'), type='EMPLOYEE_OR_MEMBER_OF', properties={'evidence': 'Deciding to focus more on machine learning, she accepted a job at GitHub as a machine learning engineer while maintaining adjunct assistant professor status at the University of Illinois.', 'positionHeld': 'machine learning engineer'})]"
      ]
     },
     "execution_count": 19,
     "metadata": {},
     "output_type": "execute_result"
    }
   ],
   "source": [
    "speaker.relationships"
   ]
  },
  {
   "cell_type": "markdown",
   "id": "2c640a85-cd78-4b6f-9a2c-7e3358b33a84",
   "metadata": {},
   "source": [
    "# Load the Knowledge Graph Constructed with Diffbot into Neo4j Graph Database"
   ]
  },
  {
   "cell_type": "code",
   "execution_count": 14,
   "id": "610ee935-c478-4e03-9b05-8e06980689c1",
   "metadata": {},
   "outputs": [],
   "source": [
    "from langchain_community.graphs import Neo4jGraph\n",
    "\n",
    "url = \"url\"\n",
    "username = \"neo4j\"\n",
    "password = \"your-instance-password\"\n",
    "\n",
    "graph = Neo4jGraph(url=url, username=username, password=password)\n"
   ]
  },
  {
   "cell_type": "code",
   "execution_count": 61,
   "id": "e97402ea-ee9b-4560-9961-677a604049bc",
   "metadata": {},
   "outputs": [
    {
     "name": "stdout",
     "output_type": "stream",
     "text": [
      "0\n",
      "1\n",
      "2\n",
      "3\n",
      "4\n",
      "5\n",
      "6\n",
      "7\n",
      "8\n",
      "9\n",
      "10\n",
      "11\n",
      "12\n",
      "13\n",
      "14\n",
      "15\n",
      "16\n",
      "17\n",
      "18\n",
      "19\n",
      "20\n",
      "21\n",
      "22\n",
      "23\n",
      "24\n",
      "25\n",
      "26\n",
      "27\n",
      "28\n",
      "29\n",
      "30\n",
      "31\n",
      "32\n",
      "33\n",
      "34\n",
      "35\n",
      "36\n",
      "37\n",
      "38\n",
      "39\n",
      "40\n",
      "41\n",
      "42\n",
      "43\n",
      "44\n",
      "45\n",
      "46\n",
      "47\n",
      "48\n",
      "49\n",
      "50\n"
     ]
    }
   ],
   "source": [
    "diffbot_nlp = DiffbotGraphTransformer()\n",
    "for i in range(len(speaker_data['summary'])):\n",
    "    result = diffbot_nlp.nlp_request(speaker_data['summary'][i])\n",
    "    speaker = diffbot_nlp.process_response(result)\n",
    "    graph.add_graph_documents(speaker)\n",
    "    print(i) # ensure no index is skipped\n",
    "    "
   ]
  }
 ],
 "metadata": {
  "kernelspec": {
   "display_name": "Python 3 (ipykernel)",
   "language": "python",
   "name": "python3"
  },
  "language_info": {
   "codemirror_mode": {
    "name": "ipython",
    "version": 3
   },
   "file_extension": ".py",
   "mimetype": "text/x-python",
   "name": "python",
   "nbconvert_exporter": "python",
   "pygments_lexer": "ipython3",
   "version": "3.10.12"
  }
 },
 "nbformat": 4,
 "nbformat_minor": 5
}
